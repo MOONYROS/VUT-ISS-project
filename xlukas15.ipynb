{
 "cells": [
  {
   "attachments": {},
   "cell_type": "markdown",
   "metadata": {},
   "source": [
    "Jmeno: Ondrej Lukasek\n",
    "Login: xlukas15\n",
    "mail: xlukas15@stud.fit.vutbr.cz"
   ]
  },
  {
   "attachments": {},
   "cell_type": "markdown",
   "metadata": {},
   "source": [
    "Zacneme importem jednotlivych knihoven, ktere budou v projektu potreba."
   ]
  },
  {
   "cell_type": "code",
   "execution_count": 51,
   "metadata": {},
   "outputs": [],
   "source": [
    "import numpy as np\n",
    "import soundfile as sf\n",
    "import matplotlib.pyplot as plt"
   ]
  },
  {
   "attachments": {},
   "cell_type": "markdown",
   "metadata": {},
   "source": [
    "Nyni nacteme vsechny jednotlive tony (respektive cely soubor klavir.waw), jak je napsano v zadani.\n",
    "Pro nacteni jednotlivych tonu pouziji navod ze zadani."
   ]
  },
  {
   "cell_type": "code",
   "execution_count": 52,
   "metadata": {},
   "outputs": [],
   "source": [
    "MIDIFROM = 24\n",
    "MIDITO = 108\n",
    "SKIP_SEC = 0.25\n",
    "HOWMUCH_SEC = 0.5\n",
    "WHOLETONE_SEC = 2\n",
    "howmanytones = MIDITO - MIDIFROM + 1\n",
    "tones = np.arange(MIDIFROM, MIDITO+1)\n",
    "s, Fs = sf.read('klavir.wav')\n",
    "N = int(Fs * HOWMUCH_SEC)\n",
    "Nwholetone = int(Fs * WHOLETONE_SEC)\n",
    "xall = np.zeros((MIDITO+1, N)) # matrix with all tones - first signals empty,\n",
    "# but we have plenty of memory ...\n",
    "samplefrom = int(SKIP_SEC * Fs)\n",
    "sampleto = samplefrom + N\n",
    "for tone in tones:\n",
    "    x = s[samplefrom:sampleto]\n",
    "    x = x - np.mean(x) # safer to center ...\n",
    "    xall[tone,:] = x\n",
    "    samplefrom += Nwholetone\n",
    "    sampleto += Nwholetone"
   ]
  },
  {
   "attachments": {},
   "cell_type": "markdown",
   "metadata": {},
   "source": [
    "Tony pro muj login (xlukas15) jsou 40; 76 a 105, ty si postupne ulozim do souboru, pojmenovanych podle zadani (a_orig.wav, b_orig.wav, c_orig.wav), a ulozim je do slozky audio."
   ]
  },
  {
   "cell_type": "code",
   "execution_count": 53,
   "metadata": {},
   "outputs": [],
   "source": [
    "sf.write('audio/a_orig.wav', xall[40], Fs)\n",
    "sf.write('audio/b_orig.wav', xall[76], Fs)\n",
    "sf.write('audio/c_orig.wav', xall[105], Fs)\n"
   ]
  },
  {
   "cell_type": "code",
   "execution_count": null,
   "metadata": {},
   "outputs": [],
   "source": []
  }
 ],
 "metadata": {
  "kernelspec": {
   "display_name": "Python 3",
   "language": "python",
   "name": "python3"
  },
  "language_info": {
   "codemirror_mode": {
    "name": "ipython",
    "version": 3
   },
   "file_extension": ".py",
   "mimetype": "text/x-python",
   "name": "python",
   "nbconvert_exporter": "python",
   "pygments_lexer": "ipython3",
   "version": "3.8.2"
  },
  "orig_nbformat": 4,
  "vscode": {
   "interpreter": {
    "hash": "570feb405e2e27c949193ac68f46852414290d515b0ba6e5d90d076ed2284471"
   }
  }
 },
 "nbformat": 4,
 "nbformat_minor": 2
}
